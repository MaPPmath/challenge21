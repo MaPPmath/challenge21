{
 "cells": [
  {
   "cell_type": "code",
   "execution_count": 1,
   "metadata": {
    "collapsed": false
   },
   "outputs": [
   ],
   "source": [
    "braille = {\n",
    "    \"a\" : [1,0,0,0,0,0],\n",
    "    \"b\" : [1,0,1,0,0,0],\n",
    "    \"c\" : [1,1,0,0,0,0],\n",
    "    \"d\" : [1,1,0,1,0,0],\n",
    "    \"e\" : [1,0,0,1,1,0],\n",
    "    \"f\" : [1,1,1,0,0,0],\n",
    "    \"g\" : [1,1,1,1,0,0],\n",
    "    \"h\" : [1,0,1,1,0,0],\n",
    "    \"i\" : [0,1,1,0,1,0],\n",
    "    \"j\" : [0,1,1,1,0,0],\n",
    "    \"k\" : [1,0,0,0,1,0],\n",
    "    \"l\" : [1,0,1,0,1,0],\n",
    "    \"m\" : [1,1,0,0,1,0],\n",
    "    \"n\" : [1,1,0,1,1,0],\n",
    "    \"o\" : [1,0,0,1,1,1],\n",
    "    \"p\" : [1,1,1,0,1,0],\n",
    "    \"q\" : [1,1,1,1,1,0],\n",
    "    \"r\" : [1,0,1,1,1,0],\n",
    "    \"s\" : [0,1,1,0,1,0],\n",
    "    \"t\" : [0,1,1,1,1,0],\n",
    "    \"u\" : [1,0,0,0,1,1],\n",
    "    \"v\" : [1,0,1,0,1,1],\n",
    "    \"w\" : [0,1,0,1,1,1],\n",
    "    \"x\" : [1,1,0,0,1,1],\n",
    "    \"y\" : [1,1,0,1,1,1],\n",
    "    \"z\" : [1,0,0,1,1,1],\n",
    "}"
   ]
  },
  {
   "cell_type": "code",
   "execution_count": 2,
   "metadata": {
    "collapsed": false
   },
   "outputs": [
   ],
   "source": [
    "# to spell PILL\n",
    "seven_segment = {\n",
    "    \"hn\": [1,0,0,0],\n",
    "    \"hm\": [1,0,0,0],\n",
    "    \"hs\": [0,0,1,1],\n",
    "    \"vnw\": [1,0,1,1],\n",
    "    \"vne\": [1,1,0,0],\n",
    "    \"vsw\": [1,0,1,1],\n",
    "    \"vse\": [0,1,0,0],\n",
    "}"
   ]
  },
  {
   "cell_type": "code",
   "execution_count": 9,
   "metadata": {
    "collapsed": false
   },
   "outputs": [
    {
     "name": "stdout",
     "output_type": "stream",
     "text": [
      "1 AND 2 yield hn\n",
      "1 XOR 5 yield hn\n",
      "3 XOR 4 yield hn\n",
      "1 AND 2 yield hm\n",
      "1 XOR 5 yield hm\n",
      "3 XOR 4 yield hm\n",
      "0 NAND 2 yield hs\n",
      "0 XOR 2 yield hs\n",
      "1 IFF 4 yield hs\n",
      "2 NAND 3 yield hs\n",
      "3 IFF 5 yield hs\n",
      "1 IFF 3 yield vnw\n",
      "2 NAND 4 yield vnw\n",
      "4 IFF 5 yield vnw\n",
      "0 AND 2 yield vne\n",
      "0 IFF 2 yield vne\n",
      "1 XOR 4 yield vne\n",
      "2 AND 3 yield vne\n",
      "3 XOR 5 yield vne\n",
      "1 IFF 3 yield vsw\n",
      "2 NAND 4 yield vsw\n",
      "4 IFF 5 yield vsw\n",
      "1 XOR 3 yield vse\n",
      "2 AND 4 yield vse\n",
      "4 XOR 5 yield vse\n"
     ]
    }
   ],
   "source": [
    "clue = \"gray\"\n",
    "for seg,val in seven_segment.items():\n",
    "    for first in range(6):\n",
    "        for second in range(first+1,6):\n",
    "            and_display = [braille[letter][first]*braille[letter][second] for letter in clue]\n",
    "            nand_display = [1-braille[letter][first]*braille[letter][second] for letter in clue]\n",
    "            or_display = [1-(1-braille[letter][first])*(1-braille[letter][second]) for letter in clue]\n",
    "            nor_display = [(1-braille[letter][first])*(1-braille[letter][second]) for letter in clue]\n",
    "            xor_display = [(braille[letter][first]+braille[letter][second])%2 for letter in clue]\n",
    "            iff_display = [1-(braille[letter][first]+braille[letter][second])%2 for letter in clue]\n",
    "            if val==and_display:\n",
    "                print(f\"{first} AND {second} yield {seg}\")\n",
    "            if val==nand_display:\n",
    "                print(f\"{first} NAND {second} yield {seg}\")\n",
    "            if val==or_display:\n",
    "                print(f\"{first} OR {second} yield {seg}\")\n",
    "            if val==nor_display:\n",
    "                print(f\"{first} NOR {second} yield {seg}\")\n",
    "            if val==xor_display:\n",
    "                print(f\"{first} XOR {second} yield {seg}\")\n",
    "            if val==iff_display:\n",
    "                print(f\"{first} IFF {second} yield {seg}\")\n"
   ]
  }
 ],
 "metadata": {
  "kernelspec": {
   "display_name": "Python 3 (system-wide)",
   "language": "python",
   "metadata": {
    "cocalc": {
     "description": "Python 3 programming language",
     "priority": 100,
     "url": "https://www.python.org/"
    }
   },
   "name": "python3",
   "resource_dir": "/ext/jupyter/kernels/python3"
  },
  "language_info": {
   "codemirror_mode": {
    "name": "ipython",
    "version": 3
   },
   "file_extension": ".py",
   "mimetype": "text/x-python",
   "name": "python",
   "nbconvert_exporter": "python",
   "pygments_lexer": "ipython3",
   "version": "3.8.5"
  }
 },
 "nbformat": 4,
 "nbformat_minor": 4
}