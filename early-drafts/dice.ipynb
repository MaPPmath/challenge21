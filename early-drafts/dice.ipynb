{
 "cells": [
  {
   "cell_type": "code",
   "execution_count": 1,
   "metadata": {
    "collapsed": false
   },
   "outputs": [
    {
     "data": {
      "text/plain": [
       "['S', 'Q', 'V', 'Y', 'R', 'Z', 'L', 'M']"
      ]
     },
     "execution_count": 1,
     "metadata": {
     },
     "output_type": "execute_result"
    }
   ],
   "source": [
    "import random\n",
    "message = \"UPTOWN\"\n",
    "crud = list(\"LMNOPQRSTUVWYZ\")\n",
    "crud = [l for l in crud if l not in message]\n",
    "random.shuffle(crud)\n",
    "crud\n"
   ]
  },
  {
   "cell_type": "code",
   "execution_count": 2,
   "metadata": {
    "collapsed": false
   },
   "outputs": [
   ],
   "source": [
    "def tikz_letter(l,valid=True):\n",
    "    d1x = random.randrange(2)\n",
    "    d1y = 2-random.randrange(2)\n",
    "    value = (ord(l)-ord(\"A\")+1)\n",
    "    parity = value%2\n",
    "    if valid:\n",
    "        choices = [(d1x+dx,d1y+dy) for dx in range(1,4-d1x) for dy in range(1,4-d1y) if ((dx+dy)%2==parity)]\n",
    "    else:\n",
    "        choices = [(d1x+dx,d1y+dy) for dx in range(1,4-d1x) for dy in range(1,4-d1y) if ((dx+dy)%2==parity)]\n",
    "    d2x,d2y = random.choice(choices)\n",
    "    dice_to_sum = {\n",
    "        \"1a\": 6,\n",
    "        \"1b\": 9,\n",
    "        \"1c\": 7,\n",
    "        \"1d\": 10,\n",
    "        \"2a\": 7,\n",
    "        \"2b\": 6,\n",
    "        \"2c\": 12,\n",
    "        \"2d\": 11,\n",
    "        \"3a\": 6,\n",
    "        \"3b\": 11,\n",
    "        \"3c\": 9,\n",
    "        \"3d\": 14,\n",
    "        \"4a\": 10,\n",
    "        \"4b\": 7,\n",
    "        \"4c\": 15,\n",
    "        \"4d\": 12,\n",
    "        \"5a\": 9,\n",
    "        \"5b\": 14,\n",
    "        \"5c\": 10,\n",
    "        \"5d\": 15,\n",
    "        \"6a\": 12,\n",
    "        \"6b\": 11,\n",
    "        \"6c\": 15,\n",
    "        \"6d\": 14,\n",
    "    }\n",
    "    while True:\n",
    "        d1v = random.choice(list(dice_to_sum.keys()))\n",
    "        d2v_val=value-dice_to_sum[d1v]\n",
    "        d2v_poss = [_ for _ in dice_to_sum.keys() if dice_to_sum[_]==d2v_val]\n",
    "        if len(d2v_poss)>0:\n",
    "            d2v = random.choice(d2v_poss)\n",
    "            break\n",
    "    return f\"\"\"\\diegrid{{\n",
    "    \\die{{{d1x},{d1y}}}{{{d1v}}}\n",
    "    \\die{{{d2x},{d2y}}}{{{d2v}}}\n",
    "}}\n",
    "\"\"\"\n"
   ]
  },
  {
   "cell_type": "code",
   "execution_count": 3,
   "metadata": {
    "collapsed": false
   },
   "outputs": [
    {
     "name": "stdout",
     "output_type": "stream",
     "text": [
      "\\diegrid{\n",
      "    \\die{0,2}{1c}\n",
      "    \\die{2,3}{3a}\n",
      "}\n",
      "\\diegrid{\n",
      "    \\die{0,1}{6a}\n",
      "    \\die{3,3}{5a}\n",
      "}\n",
      "\\diegrid{\n",
      "    \\die{0,1}{4b}\n",
      "    \\die{2,3}{5a}\n",
      "}\n",
      "\\diegrid{\n",
      "    \\die{1,1}{2b}\n",
      "    \\die{3,3}{1a}\n",
      "}\n",
      "\\diegrid{\n",
      "    \\die{0,2}{4c}\n",
      "    \\die{1,3}{2d}\n",
      "}\n",
      "\\diegrid{\n",
      "    \\die{1,1}{2d}\n",
      "    \\die{2,2}{1b}\n",
      "}\n",
      "\\diegrid{\n",
      "    \\die{0,1}{5a}\n",
      "    \\die{1,3}{2b}\n",
      "}\n",
      "\\diegrid{\n",
      "    \\die{1,1}{4d}\n",
      "    \\die{3,2}{2d}\n",
      "}\n",
      "\\diegrid{\n",
      "    \\die{1,1}{2d}\n",
      "    \\die{2,2}{4b}\n",
      "}\n",
      "\\diegrid{\n",
      "    \\die{1,2}{3d}\n",
      "    \\die{3,3}{2d}\n",
      "}\n",
      "\\diegrid{\n",
      "    \\die{1,1}{2a}\n",
      "    \\die{2,2}{2a}\n",
      "}\n",
      "\\diegrid{\n",
      "    \\die{1,1}{4d}\n",
      "    \\die{3,3}{1d}\n",
      "}\n",
      "\\diegrid{\n",
      "    \\die{0,2}{4a}\n",
      "    \\die{2,3}{2a}\n",
      "}\n",
      "\n"
     ]
    }
   ],
   "source": [
    "mixed = []\n",
    "for _ in range(random.randrange(2)):\n",
    "    mixed.append(tikz_letter(crud.pop(),valid=False))\n",
    "for letter in message:\n",
    "    mixed.append(tikz_letter(letter,valid=True))\n",
    "    for _ in range(random.randrange(3)):\n",
    "        mixed.append(tikz_letter(crud.pop(),valid=False))\n",
    "print(\"\".join(mixed))"
   ]
  }
 ],
 "metadata": {
  "kernelspec": {
   "display_name": "Python 3 (system-wide)",
   "language": "python",
   "metadata": {
    "cocalc": {
     "description": "Python 3 programming language",
     "priority": 100,
     "url": "https://www.python.org/"
    }
   },
   "name": "python3",
   "resource_dir": "/ext/jupyter/kernels/python3"
  },
  "language_info": {
   "codemirror_mode": {
    "name": "ipython",
    "version": 3
   },
   "file_extension": ".py",
   "mimetype": "text/x-python",
   "name": "python",
   "nbconvert_exporter": "python",
   "pygments_lexer": "ipython3",
   "version": "3.8.5"
  }
 },
 "nbformat": 4,
 "nbformat_minor": 4
}